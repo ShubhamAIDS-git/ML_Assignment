{
  "nbformat": 4,
  "nbformat_minor": 0,
  "metadata": {
    "colab": {
      "provenance": []
    },
    "kernelspec": {
      "name": "python3",
      "display_name": "Python 3"
    },
    "language_info": {
      "name": "python"
    }
  },
  "cells": [
    {
      "cell_type": "code",
      "execution_count": 1,
      "metadata": {
        "colab": {
          "base_uri": "https://localhost:8080/"
        },
        "id": "Qs0zi_yZ5U0Q",
        "outputId": "c7eb4265-5135-44d5-9e4b-fa467aaf5156"
      },
      "outputs": [
        {
          "output_type": "stream",
          "name": "stdout",
          "text": [
            "First five rows of the Iris dataset:\n",
            "   sepal length (cm)  sepal width (cm)  petal length (cm)  petal width (cm)\n",
            "0                5.1               3.5                1.4               0.2\n",
            "1                4.9               3.0                1.4               0.2\n",
            "2                4.7               3.2                1.3               0.2\n",
            "3                4.6               3.1                1.5               0.2\n",
            "4                5.0               3.6                1.4               0.2\n",
            "\n",
            "Dataset shape (rows, columns): (150, 4)\n",
            "\n",
            "Summary statistics for each feature:\n",
            "       sepal length (cm)  sepal width (cm)  petal length (cm)  \\\n",
            "count         150.000000        150.000000         150.000000   \n",
            "mean            5.843333          3.057333           3.758000   \n",
            "std             0.828066          0.435866           1.765298   \n",
            "min             4.300000          2.000000           1.000000   \n",
            "25%             5.100000          2.800000           1.600000   \n",
            "50%             5.800000          3.000000           4.350000   \n",
            "75%             6.400000          3.300000           5.100000   \n",
            "max             7.900000          4.400000           6.900000   \n",
            "\n",
            "       petal width (cm)  \n",
            "count        150.000000  \n",
            "mean           1.199333  \n",
            "std            0.762238  \n",
            "min            0.100000  \n",
            "25%            0.300000  \n",
            "50%            1.300000  \n",
            "75%            1.800000  \n",
            "max            2.500000  \n",
            "\n",
            "Number of samples in the training set: 120\n",
            "Number of samples in the testing set: 30\n",
            "\n",
            "Linear Regression Model:\n",
            "Coefficient (Slope): 7.887931034482761\n",
            "Intercept: 15.991379310344819\n",
            "Mean Squared Error on the Test Set: 9.777236920332959\n"
          ]
        }
      ],
      "source": [
        "# Import necessary libraries\n",
        "from sklearn.datasets import load_iris\n",
        "import pandas as pd\n",
        "from sklearn.model_selection import train_test_split\n",
        "from sklearn.linear_model import LinearRegression\n",
        "from sklearn.metrics import mean_squared_error\n",
        "import numpy as np\n",
        "\n",
        "# Step 1: Dataset Exploration\n",
        "\n",
        "# Load the Iris dataset\n",
        "iris = load_iris()\n",
        "\n",
        "# Create a DataFrame from the dataset\n",
        "iris_df = pd.DataFrame(iris.data, columns=iris.feature_names)\n",
        "\n",
        "# Display the first five rows of the dataset\n",
        "print(\"First five rows of the Iris dataset:\")\n",
        "print(iris_df.head())\n",
        "\n",
        "# Get the dataset’s shape\n",
        "print(\"\\nDataset shape (rows, columns):\", iris_df.shape)\n",
        "\n",
        "# Calculate summary statistics for each feature\n",
        "print(\"\\nSummary statistics for each feature:\")\n",
        "print(iris_df.describe())\n",
        "\n",
        "# Step 2: Data Splitting\n",
        "\n",
        "# Split the Iris dataset into training and testing sets (80-20 split)\n",
        "X_train, X_test, y_train, y_test = train_test_split(iris.data, iris.target, test_size=0.2, random_state=42)\n",
        "\n",
        "# Get the number of samples in both the training and testing sets\n",
        "print(\"\\nNumber of samples in the training set:\", X_train.shape[0])\n",
        "print(\"Number of samples in the testing set:\", X_test.shape[0])\n",
        "\n",
        "# Step 3: Linear Regression\n",
        "\n",
        "# Simulate a dataset with YearsExperience and Salary\n",
        "# Assuming YearsExperience is from 1 to 10 years\n",
        "years_experience = np.array([1, 2, 3, 4, 5, 6, 7, 8, 9, 10]).reshape(-1, 1)\n",
        "\n",
        "# Simulated corresponding salaries (in thousands)\n",
        "salary = np.array([30, 35, 40, 45, 50, 60, 70, 80, 90, 100])\n",
        "\n",
        "# Split this dataset into training and testing sets (80-20 split)\n",
        "X_train_lr, X_test_lr, y_train_lr, y_test_lr = train_test_split(years_experience, salary, test_size=0.2, random_state=42)\n",
        "\n",
        "# Fit a linear regression model\n",
        "model = LinearRegression()\n",
        "model.fit(X_train_lr, y_train_lr)\n",
        "\n",
        "# Predict on the test set\n",
        "y_pred_lr = model.predict(X_test_lr)\n",
        "\n",
        "# Evaluate the model using Mean Squared Error (MSE)\n",
        "mse = mean_squared_error(y_test_lr, y_pred_lr)\n",
        "\n",
        "print(\"\\nLinear Regression Model:\")\n",
        "print(\"Coefficient (Slope):\", model.coef_[0])\n",
        "print(\"Intercept:\", model.intercept_)\n",
        "print(\"Mean Squared Error on the Test Set:\", mse)\n"
      ]
    }
  ]
}